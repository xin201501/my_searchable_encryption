{
 "cells": [
  {
   "cell_type": "code",
   "execution_count": 1,
   "id": "87f926ba",
   "metadata": {},
   "outputs": [],
   "source": [
    "import os\n",
    "from cryptography.hazmat.primitives.ciphers import Cipher, algorithms, modes\n",
    "from Crypto.Cipher import AES\n",
    "from Crypto.Util.Padding import pad, unpad\n",
    "key = os.urandom(16)\n",
    "b = b\"\"\n",
    "c = b\"\""
   ]
  },
  {
   "cell_type": "code",
   "execution_count": 2,
   "id": "adff703b",
   "metadata": {},
   "outputs": [],
   "source": [
    "# AES-ecb 加密（硬件加速）\n",
    "\n",
    "for i in range(1000000):\n",
    "    cipher = Cipher(algorithms.AES(key), modes.ECB())\n",
    "    encryptor = cipher.encryptor()\n",
    "    padded_data = pad(b'aes-encrypt', AES.block_size)\n",
    "    b = encryptor.update(padded_data) + encryptor.finalize()"
   ]
  },
  {
   "cell_type": "code",
   "execution_count": 3,
   "id": "ff57c81c",
   "metadata": {},
   "outputs": [],
   "source": [
    "# AES-ecb 模式（支持内存视图）\n",
    "cipher = AES.new(key, AES.MODE_ECB)\n"
   ]
  },
  {
   "cell_type": "code",
   "execution_count": 4,
   "id": "bc468a55",
   "metadata": {},
   "outputs": [],
   "source": [
    "for i in range(1000000):\n",
    "    padded_data = pad(b'aes-encrypt', AES.block_size)\n",
    "    c = cipher.encrypt(padded_data)"
   ]
  },
  {
   "cell_type": "code",
   "execution_count": 5,
   "id": "e7ea4f89",
   "metadata": {},
   "outputs": [],
   "source": [
    "assert b == c"
   ]
  },
  {
   "cell_type": "code",
   "execution_count": 6,
   "id": "cd61ce8a",
   "metadata": {},
   "outputs": [],
   "source": [
    "import enc_rust\n"
   ]
  },
  {
   "cell_type": "code",
   "execution_count": 7,
   "id": "90993238",
   "metadata": {},
   "outputs": [],
   "source": [
    "for i in range(1000000):\n",
    "     c = enc_rust.aes_ecb_encrypt(key,'aes-encrypt')"
   ]
  },
  {
   "cell_type": "code",
   "execution_count": 8,
   "id": "2d2b8cdb",
   "metadata": {},
   "outputs": [],
   "source": [
    "assert b == c"
   ]
  },
  {
   "cell_type": "code",
   "execution_count": 9,
   "id": "29395e5d",
   "metadata": {},
   "outputs": [],
   "source": [
    "for i in range(1000000):\n",
    "    cipher = AES.new(key, AES.MODE_GCM)\n",
    "    ciphertext, tag = cipher.encrypt_and_digest(b'aes-encrypt')\n",
    "    b = cipher.nonce + tag + ciphertext\n"
   ]
  },
  {
   "cell_type": "code",
   "execution_count": 10,
   "id": "e3b7146e",
   "metadata": {},
   "outputs": [],
   "source": [
    "for i in range(1000000):\n",
    "    c = enc_rust.aes_gcm_encrypt(key,'aes-encrypt')"
   ]
  },
  {
   "cell_type": "code",
   "execution_count": 11,
   "id": "3c9278f7",
   "metadata": {},
   "outputs": [],
   "source": [
    "c = enc_rust.aes_gcm_decrypt(key, c)\n",
    "assert c == 'aes-encrypt'"
   ]
  }
 ],
 "metadata": {
  "kernelspec": {
   "display_name": "project",
   "language": "python",
   "name": "python3"
  },
  "language_info": {
   "codemirror_mode": {
    "name": "ipython",
    "version": 3
   },
   "file_extension": ".py",
   "mimetype": "text/x-python",
   "name": "python",
   "nbconvert_exporter": "python",
   "pygments_lexer": "ipython3",
   "version": "3.12.3"
  }
 },
 "nbformat": 4,
 "nbformat_minor": 5
}
